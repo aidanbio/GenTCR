{
 "cells": [
  {
   "cell_type": "markdown",
   "source": [
    "## Evaluation of fine-tuned model of ESM-2(esm2-t33-650M-UR50D) on the IMMUNECODE dataset"
   ],
   "metadata": {
    "collapsed": false
   },
   "id": "82a5ef5b306d8c00"
  },
  {
   "cell_type": "markdown",
   "source": [
    "### Load the base pretrained model"
   ],
   "metadata": {
    "collapsed": false
   },
   "id": "9a3b76bb34e300fe"
  },
  {
   "cell_type": "code",
   "execution_count": 20,
   "outputs": [],
   "source": [
    "from transformers import AutoTokenizer, AutoModelForMaskedLM\n",
    "import torch\n",
    "from peft import *\n",
    "\n",
    "model_name = 'facebook/esm2_t33_650M_UR50D'\n",
    "base_model = AutoModelForMaskedLM.from_pretrained(model_name, device_map='auto').eval()\n",
    "tokenizer = AutoTokenizer.from_pretrained(adapter_path)"
   ],
   "metadata": {
    "collapsed": false,
    "ExecuteTime": {
     "end_time": "2023-11-15T06:40:40.008414374Z",
     "start_time": "2023-11-15T06:40:38.735415135Z"
    }
   },
   "id": "initial_id"
  },
  {
   "cell_type": "markdown",
   "source": [
    "### Load the fine-tuned LoRA adapter model"
   ],
   "metadata": {
    "collapsed": false
   },
   "id": "92326a15c7b64ac9"
  },
  {
   "cell_type": "code",
   "execution_count": 24,
   "outputs": [],
   "source": [
    "def load_peft_model(adapter_path='../output/exp1/mlm_finetune'):\n",
    "    model = AutoPeftModel.from_pretrained(adapter_path, device_map='auto').eval()\n",
    "    # model = model.merge_and_unload()\n",
    "    return model\n",
    "\n",
    "model = load_peft_model('../output/exp1/mlm_finetune')"
   ],
   "metadata": {
    "collapsed": false,
    "ExecuteTime": {
     "end_time": "2023-11-15T06:52:40.547482453Z",
     "start_time": "2023-11-15T06:52:38.657624148Z"
    }
   },
   "id": "206eaf74eaa11abf"
  },
  {
   "cell_type": "markdown",
   "source": [
    "### Load the IMMUNECODE dataset to evaluate the model"
   ],
   "metadata": {
    "collapsed": false
   },
   "id": "6a3bf84c98bfba41"
  },
  {
   "cell_type": "code",
   "execution_count": 25,
   "outputs": [
    {
     "name": "stdout",
     "output_type": "stream",
     "text": [
      "input : AYKTFPPTEPKCASSYSARSYNEQFF\n",
      "output: MYKTFPPTEPKCASSYSARSYNEQFF\n",
      ">>> similarity score:  0.9615384615384616\n",
      "input : KTFPPTEPKCASSYSARSYNEQFF\n",
      "output: MTFPPTEPKCASSYSARSYNEQFF\n",
      ">>> similarity score:  0.9583333333333334\n",
      "input : AFLLFLVLICASSSLADYRYEQYF\n",
      "output: MFLLFLVLICASSSLADYRYEQYF\n",
      ">>> similarity score:  0.9583333333333334\n",
      "input : FLAFLLFLVCASSSLADYRYEQYF\n",
      "output: MLAFLLFLVCASSSLADYRYEQYF\n",
      ">>> similarity score:  0.9583333333333334\n",
      "input : FYLCFLAFLCASSSLADYRYEQYF\n",
      "output: MYLCFLAFLCASSSLADYRYEQYF\n",
      ">>> similarity score:  0.9583333333333334\n",
      "input : FYLCFLAFLLCASSSLADYRYEQYF\n",
      "output: MYLCFLAFLLCASSSLADYRYEQYF\n",
      ">>> similarity score:  0.96\n",
      "input : IDFYLCFLAFCASSSLADYRYEQYF\n",
      "output: MDFYLCFLAFCASSSLADYRYEQYF\n",
      ">>> similarity score:  0.96\n",
      "input : IELSLIDFYLCASSSLADYRYEQYF\n",
      "output: MELSLIDFYLCASSSLADYRYEQYF\n",
      ">>> similarity score:  0.96\n",
      "input : LIDFYLCFLCASSSLADYRYEQYF\n",
      "output: MIDFYLCFLCASSSLADYRYEQYF\n",
      ">>> similarity score:  0.9583333333333334\n",
      "input : LLFLVLIMLCASSSLADYRYEQYF\n",
      "output: MLFLVLIMLCASSSLADYRYEQYF\n",
      ">>> similarity score:  0.9583333333333334\n",
      "input : MIELSLIDFYCASSSLADYRYEQYF\n",
      "output: MIELSLIDFYCASSSLADYRYEQYF\n",
      ">>> similarity score:  1.0\n",
      "input : SLIDFYLCFLCASSSLADYRYEQYF\n",
      "output: MLIDFYLCFLCASSSLADYRYEQYF\n",
      ">>> similarity score:  0.96\n",
      "input : YLCFLAFLLCASSSLADYRYEQYF\n",
      "output: MLCFLAFLLCASSSLADYRYEQYF\n",
      ">>> similarity score:  0.9583333333333334\n",
      "input : YLNTLTLAVCATSRERAGGGTDTQYF\n",
      "output: MLNTLTLAVCATSRERAGGGTDTQYF\n",
      ">>> similarity score:  0.9615384615384616\n",
      "input : AFLLFLVLICASRSSGQILYEQYF\n",
      "output: MFLLFLVLICASRSSGQILYEQYF\n",
      ">>> similarity score:  0.9583333333333334\n",
      "input : FLAFLLFLVCASRSSGQILYEQYF\n",
      "output: MLAFLLFLVCASRSSGQILYEQYF\n",
      ">>> similarity score:  0.9583333333333334\n",
      "input : FYLCFLAFLCASRSSGQILYEQYF\n",
      "output: MYLCFLAFLCASRSSGQILYEQYF\n",
      ">>> similarity score:  0.9583333333333334\n",
      "input : FYLCFLAFLLCASRSSGQILYEQYF\n",
      "output: MYLCFLAFLLCASRSSGQILYEQYF\n",
      ">>> similarity score:  0.96\n",
      "input : IDFYLCFLAFCASRSSGQILYEQYF\n",
      "output: MDFYLCFLAFCASRSSGQILYEQYF\n",
      ">>> similarity score:  0.96\n",
      "input : IELSLIDFYLCASRSSGQILYEQYF\n",
      "output: MELSLIDFYLCASRSSGQILYEQYF\n",
      ">>> similarity score:  0.96\n",
      ">>> Mean similarity score of base model: 0.9613205128205129\n",
      "input : AYKTFPPTEPKCASSYSARSYNEQFF\n",
      "output: MAHTFGGTEWSCASSPSGSSYNEQFFK\n",
      ">>> similarity score:  0.6415094339622641\n",
      "input : KTFPPTEPKCASSYSARSYNEQFF\n",
      "output: MTYGGTELSCASSPSGSSYNEQFFTS\n",
      ">>> similarity score:  0.6\n",
      "input : AFLLFLVLICASSSLADYRYEQYF\n",
      "output: MFLLFLSLSCASSGLAGGSYEQYFT\n",
      ">>> similarity score:  0.6938775510204082\n",
      "input : FLAFLLFLVCASSSLADYRYEQYF\n",
      "output: MLAFLLSLSCASSGLAGGSYEQYFT\n",
      ">>> similarity score:  0.6938775510204082\n",
      "input : FYLCFLAFLCASSSLADYRYEQYF\n",
      "output: MYLPFLSSLCASSGLAGGSYEQYFT\n",
      ">>> similarity score:  0.6530612244897959\n",
      "input : FYLCFLAFLLCASSSLADYRYEQYF\n",
      "output: MSLGFLGSLSCASSGLAGGSYEQYFT\n",
      ">>> similarity score:  0.5882352941176471\n",
      "input : IDFYLCFLAFCASSSLADYRYEQYF\n",
      "output: MLFSLSSLLSCASSGLAGGSYEQYFS\n",
      ">>> similarity score:  0.5490196078431373\n",
      "input : IELSLIDFYLCASSSLADYRYEQYF\n",
      "output: MHLSLGSSYSCASSGLAGGSYEQYFTT\n",
      ">>> similarity score:  0.5769230769230769\n",
      "input : LIDFYLCFLCASSSLADYRYEQYF\n",
      "output: MSGFSLSPLCASSGLAGGSYEQYFT\n",
      ">>> similarity score:  0.5306122448979592\n",
      "input : LLFLVLIMLCASSSLADYRYEQYF\n",
      "output: MLFLGLGLSCASSGLAGGSYEQYFT\n",
      ">>> similarity score:  0.6530612244897959\n",
      "input : MIELSLIDFYCASSSLADYRYEQYF\n",
      "output: MSGLSLGSSSCASSGLAGGSYEQYFS\n",
      ">>> similarity score:  0.5882352941176471\n",
      "input : SLIDFYLCFLCASSSLADYRYEQYF\n",
      "output: MLSGFSLSLSCASSGLAGGSYEQYFT\n",
      ">>> similarity score:  0.5490196078431373\n",
      "input : YLCFLAFLLCASSSLADYRYEQYF\n",
      "output: MLGFLGFLSCASSGLAGGSYEQYFT\n",
      ">>> similarity score:  0.6530612244897959\n",
      "input : YLNTLTLAVCATSRERAGGGTDTQYF\n",
      "output: MLRTGGLLSCATSRELAGGSTDTQYFTT\n",
      ">>> similarity score:  0.7037037037037037\n",
      "input : AFLLFLVLICASRSSGQILYEQYF\n",
      "output: MFLLFLSLSCASSGPGQGSYEQYFTT\n",
      ">>> similarity score:  0.68\n",
      "input : FLAFLLFLVCASRSSGQILYEQYF\n",
      "output: MLGFLLSPSCASSPPGQGSYEQYFT\n",
      ">>> similarity score:  0.6122448979591837\n",
      "input : FYLCFLAFLCASRSSGQILYEQYF\n",
      "output: MYLPGLSFSCASSGPGQGSYEQYFT\n",
      ">>> similarity score:  0.5714285714285714\n",
      "input : FYLCFLAFLLCASRSSGQILYEQYF\n",
      "output: MSLGGLSFLSCASSGPGQGSYEQYFT\n",
      ">>> similarity score:  0.5490196078431373\n",
      "input : IDFYLCFLAFCASRSSGQILYEQYF\n",
      "output: MLFGLSYLLSCASSGPGTGSYEQYFT\n",
      ">>> similarity score:  0.5490196078431373\n",
      "input : IELSLIDFYLCASRSSGQILYEQYF\n",
      "output: MHLSLGSSLSCASSGPGTGSYEQYFTT\n",
      ">>> similarity score:  0.5384615384615384\n",
      ">>> Mean similarity score of fine-tuned model: 0.6087185631227172\n"
     ]
    }
   ],
   "source": [
    "from tcredit.common import StrUtils\n",
    "from tcredit.data import EpitopeTargetDataset, EpitopeTargetMaskedLMCollator, CN\n",
    "import numpy as np\n",
    "\n",
    "\n",
    "\n",
    "def eval_model(target_model=None, tokenizer=None, input_seqs=None, max_len=None):    \n",
    "    inputs = tokenizer(input_seqs, \n",
    "                       padding='max_length', \n",
    "                       truncation=False, \n",
    "                       max_length=max_len,\n",
    "                       return_overflowing_tokens=False,\n",
    "                       return_tensors='pt')\n",
    "    output = target_model(**inputs)\n",
    "    token_ids = torch.argmax(output.logits, dim=-1)\n",
    "    output_seqs = tokenizer.batch_decode(token_ids, skip_special_tokens=True)\n",
    "    output_seqs = list(map(lambda seq: StrUtils.rm_nonwords(seq), output_seqs))\n",
    "    \n",
    "    scores = []\n",
    "    for input_seq, output_seq in zip(input_seqs, output_seqs):\n",
    "        score = StrUtils.similarity(input_seq, output_seq)\n",
    "        scores.append(score)\n",
    "        print(f'input : {input_seq}\\noutput: {output_seq}')\n",
    "        print('>>> similarity score: ', score)\n",
    "    return np.mean(scores)\n",
    "    \n",
    "EpitopeTargetDataset.FN_DATA_CONFIG = '../config/data-test.json'\n",
    "ds = EpitopeTargetDataset.from_key('immunecode')\n",
    "\n",
    "epitope_seqs = ds.df[CN.epitope_seq].values[0:20]\n",
    "target_seqs = ds.df[CN.cdr3b_seq].values[0:20]\n",
    "input_seqs = [f'{e_seq}{t_seq}' for e_seq, t_seq in zip(epitope_seqs, target_seqs)]\n",
    "max_len = ds.max_epitope_len + ds.max_target_len + 2\n",
    "\n",
    "score = eval_model(target_model=base_model, tokenizer=tokenizer, input_seqs=input_seqs, max_len=max_len)\n",
    "print(f'>>> Mean similarity score of base model: {score}')\n",
    "score = eval_model(target_model=model, tokenizer=tokenizer, input_seqs=input_seqs, max_len=max_len)\n",
    "print(f'>>> Mean similarity score of fine-tuned model: {score}')\n"
   ],
   "metadata": {
    "collapsed": false,
    "ExecuteTime": {
     "end_time": "2023-11-15T06:52:45.312187174Z",
     "start_time": "2023-11-15T06:52:45.124641492Z"
    }
   },
   "id": "cf0d01d274a8c5d"
  },
  {
   "cell_type": "markdown",
   "source": [],
   "metadata": {
    "collapsed": false
   },
   "id": "f790d03d396ab29d"
  },
  {
   "cell_type": "markdown",
   "source": [
    "- The mean similarity scores of the base model and the fine-tuned model is 0.96 and 0.61.\n",
    "- The fine-tuned model is not as good as the base model. This is probably because the mutaion ratio of the TCR CDR3$\\\\beta$ is too high as 0.4 and no mutation is applied to the epitope sequence."
   ],
   "metadata": {
    "collapsed": false
   },
   "id": "607af8de47a6d5be"
  },
  {
   "cell_type": "markdown",
   "source": [
    "## Experiment 2 with different mutation properties\n",
    "- Epitope: mut_ratio=0.15, mut_probs=[0.7, 03]\n",
    "- TCR CDR3$\\\\beta$: mut_ratio=0.2, mut_probs=[0.8, 0.2]"
   ],
   "metadata": {
    "collapsed": false
   },
   "id": "8d757ecbd474ca08"
  },
  {
   "cell_type": "code",
   "execution_count": 26,
   "outputs": [],
   "source": [
    "model = load_peft_model('../output/exp2/mlm_finetune')"
   ],
   "metadata": {
    "collapsed": false,
    "ExecuteTime": {
     "end_time": "2023-11-15T06:53:40.960467560Z",
     "start_time": "2023-11-15T06:53:39.247250731Z"
    }
   },
   "id": "1955b7678d2d443"
  },
  {
   "cell_type": "code",
   "execution_count": 28,
   "outputs": [
    {
     "name": "stdout",
     "output_type": "stream",
     "text": [
      "input : AYKTFPPTEPKCASSYSARSYNEQFF\n",
      "output: MYKTFPPTEPKCASSYSARSYNEQFF\n",
      ">>> similarity score:  0.9615384615384616\n",
      "input : KTFPPTEPKCASSYSARSYNEQFF\n",
      "output: MTFPPTEPKCASSYSARSYNEQFF\n",
      ">>> similarity score:  0.9583333333333334\n",
      "input : AFLLFLVLICASSSLADYRYEQYF\n",
      "output: MFLLFLVLICASSSLADYRYEQYF\n",
      ">>> similarity score:  0.9583333333333334\n",
      "input : FLAFLLFLVCASSSLADYRYEQYF\n",
      "output: MLAFLLFLVCASSSLADYRYEQYF\n",
      ">>> similarity score:  0.9583333333333334\n",
      "input : FYLCFLAFLCASSSLADYRYEQYF\n",
      "output: MYLCFLAFLCASSSLADYRYEQYF\n",
      ">>> similarity score:  0.9583333333333334\n",
      "input : FYLCFLAFLLCASSSLADYRYEQYF\n",
      "output: MYLCFLAFLLCASSSLADYRYEQYF\n",
      ">>> similarity score:  0.96\n",
      "input : IDFYLCFLAFCASSSLADYRYEQYF\n",
      "output: MDFYLCFLAFCASSSLADYRYEQYF\n",
      ">>> similarity score:  0.96\n",
      "input : IELSLIDFYLCASSSLADYRYEQYF\n",
      "output: MELSLIDFYLCASSSLADYRYEQYF\n",
      ">>> similarity score:  0.96\n",
      "input : LIDFYLCFLCASSSLADYRYEQYF\n",
      "output: MIDFYLCFLCASSSLADYRYEQYF\n",
      ">>> similarity score:  0.9583333333333334\n",
      "input : LLFLVLIMLCASSSLADYRYEQYF\n",
      "output: MLFLVLIMLCASSSLADYRYEQYF\n",
      ">>> similarity score:  0.9583333333333334\n",
      "input : MIELSLIDFYCASSSLADYRYEQYF\n",
      "output: MIELSLIDFYCASSSLADYRYEQYF\n",
      ">>> similarity score:  1.0\n",
      "input : SLIDFYLCFLCASSSLADYRYEQYF\n",
      "output: MLIDFYLCFLCASSSLADYRYEQYF\n",
      ">>> similarity score:  0.96\n",
      "input : YLCFLAFLLCASSSLADYRYEQYF\n",
      "output: MLCFLAFLLCASSSLADYRYEQYF\n",
      ">>> similarity score:  0.9583333333333334\n",
      "input : YLNTLTLAVCATSRERAGGGTDTQYF\n",
      "output: MLNTLTLAVCATSRERAGGGTDTQYF\n",
      ">>> similarity score:  0.9615384615384616\n",
      "input : AFLLFLVLICASRSSGQILYEQYF\n",
      "output: MFLLFLVLICASRSSGQILYEQYF\n",
      ">>> similarity score:  0.9583333333333334\n",
      "input : FLAFLLFLVCASRSSGQILYEQYF\n",
      "output: MLAFLLFLVCASRSSGQILYEQYF\n",
      ">>> similarity score:  0.9583333333333334\n",
      "input : FYLCFLAFLCASRSSGQILYEQYF\n",
      "output: MYLCFLAFLCASRSSGQILYEQYF\n",
      ">>> similarity score:  0.9583333333333334\n",
      "input : FYLCFLAFLLCASRSSGQILYEQYF\n",
      "output: MYLCFLAFLLCASRSSGQILYEQYF\n",
      ">>> similarity score:  0.96\n",
      "input : IDFYLCFLAFCASRSSGQILYEQYF\n",
      "output: MDFYLCFLAFCASRSSGQILYEQYF\n",
      ">>> similarity score:  0.96\n",
      "input : IELSLIDFYLCASRSSGQILYEQYF\n",
      "output: MELSLIDFYLCASRSSGQILYEQYF\n",
      ">>> similarity score:  0.96\n",
      ">>> Mean similarity score of base model: 0.9613205128205129\n",
      "input : AYKTFPPTEPKCASSYSARSYNEQFF\n",
      "output: ALNTFPPTEPFCASSYSARSYNEQFF\n",
      ">>> similarity score:  0.8846153846153846\n",
      "input : KTFPPTEPKCASSYSARSYNEQFF\n",
      "output: RTFPPTEPFCASSYSARSYNEQFF\n",
      ">>> similarity score:  0.9166666666666666\n",
      "input : AFLLFLVLICASSSLADYRYEQYF\n",
      "output: AFLLFLVLICASSGLADYSYEQYF\n",
      ">>> similarity score:  0.9166666666666666\n",
      "input : FLAFLLFLVCASSSLADYRYEQYF\n",
      "output: FLAFLLFLVCASSLLADYSYEQYF\n",
      ">>> similarity score:  0.9166666666666666\n",
      "input : FYLCFLAFLCASSSLADYRYEQYF\n",
      "output: FYLCFLAFLCASSSLADYSYEQYF\n",
      ">>> similarity score:  0.9583333333333334\n",
      "input : FYLCFLAFLLCASSSLADYRYEQYF\n",
      "output: FYLCFLAFLLCASSGLADYSYEQYF\n",
      ">>> similarity score:  0.92\n",
      "input : IDFYLCFLAFCASSSLADYRYEQYF\n",
      "output: IDFYLCFLAFCASSGLADYSYEQYF\n",
      ">>> similarity score:  0.92\n",
      "input : IELSLIDFYLCASSSLADYRYEQYF\n",
      "output: IELSLIDFYLCASSGLADYSYEQYF\n",
      ">>> similarity score:  0.92\n",
      "input : LIDFYLCFLCASSSLADYRYEQYF\n",
      "output: LIDFYLCFLCASSGLADYSYEQYF\n",
      ">>> similarity score:  0.9166666666666666\n",
      "input : LLFLVLIMLCASSSLADYRYEQYF\n",
      "output: LLFLVLIMLCASSLLADYSYEQYF\n",
      ">>> similarity score:  0.9166666666666666\n",
      "input : MIELSLIDFYCASSSLADYRYEQYF\n",
      "output: VIELSLIDFYCASSSLADYSYEQYF\n",
      ">>> similarity score:  0.92\n",
      "input : SLIDFYLCFLCASSSLADYRYEQYF\n",
      "output: SLIDFYLCFLCASSGLADYSYEQYF\n",
      ">>> similarity score:  0.92\n",
      "input : YLCFLAFLLCASSSLADYRYEQYF\n",
      "output: YLCFLAFLLCASSLLADYSYEQYF\n",
      ">>> similarity score:  0.9166666666666666\n",
      "input : YLNTLTLAVCATSRERAGGGTDTQYF\n",
      "output: YLNVLTLAVCATSRERAGGSTDTQYF\n",
      ">>> similarity score:  0.9230769230769231\n",
      "input : AFLLFLVLICASRSSGQILYEQYF\n",
      "output: AFLLFLVLICASRSSGQILYEQYF\n",
      ">>> similarity score:  1.0\n",
      "input : FLAFLLFLVCASRSSGQILYEQYF\n",
      "output: FLAFLLFLVCASRSSGQILYEQYF\n",
      ">>> similarity score:  1.0\n",
      "input : FYLCFLAFLCASRSSGQILYEQYF\n",
      "output: FYLCFLAFLCASRSPGQILYEQYF\n",
      ">>> similarity score:  0.9583333333333334\n",
      "input : FYLCFLAFLLCASRSSGQILYEQYF\n",
      "output: FYLCFLAFLLCASRSSGQILYEQYF\n",
      ">>> similarity score:  1.0\n",
      "input : IDFYLCFLAFCASRSSGQILYEQYF\n",
      "output: IDFYLCFLAFCASRSSGQILYEQYF\n",
      ">>> similarity score:  1.0\n",
      "input : IELSLIDFYLCASRSSGQILYEQYF\n",
      "output: IELSLIDFYLCASRSSGQILYEQYF\n",
      ">>> similarity score:  1.0\n",
      ">>> Mean similarity score of fine-tuned model: 0.9412179487179486\n"
     ]
    }
   ],
   "source": [
    "score = eval_model(target_model=base_model, tokenizer=tokenizer, input_seqs=input_seqs, max_len=max_len)\n",
    "print(f'>>> Mean similarity score of base model: {score}')\n",
    "score = eval_model(target_model=model, tokenizer=tokenizer, input_seqs=input_seqs, max_len=max_len)\n",
    "print(f'>>> Mean similarity score of fine-tuned model: {score}')"
   ],
   "metadata": {
    "collapsed": false,
    "ExecuteTime": {
     "end_time": "2023-11-15T06:54:30.567078780Z",
     "start_time": "2023-11-15T06:54:30.370767788Z"
    }
   },
   "id": "56b181122fb58ba5"
  },
  {
   "cell_type": "markdown",
   "source": [
    "- The mean similarity scores of the base model and the fine-tuned model is 0.96 and 0.94.\n",
    "- Still, the fine-tuned model score is slightly lower than the base model score.\n",
    "- Many mismatched AAs were located at the TCR CDR3$\\\\beta$ sequence. Especially, R->S or S-G mutations were frequently observed.\n",
    "- We will make the mutation properties of TCRCDR3$\\\\beta$ equal to that of epitope sequence.    "
   ],
   "metadata": {
    "collapsed": false
   },
   "id": "c75bc058f05f169"
  },
  {
   "cell_type": "markdown",
   "source": [],
   "metadata": {
    "collapsed": false
   },
   "id": "90a71fdd3965fa11"
  }
 ],
 "metadata": {
  "kernelspec": {
   "display_name": "Python 3",
   "language": "python",
   "name": "python3"
  },
  "language_info": {
   "codemirror_mode": {
    "name": "ipython",
    "version": 2
   },
   "file_extension": ".py",
   "mimetype": "text/x-python",
   "name": "python",
   "nbconvert_exporter": "python",
   "pygments_lexer": "ipython2",
   "version": "2.7.6"
  }
 },
 "nbformat": 4,
 "nbformat_minor": 5
}
