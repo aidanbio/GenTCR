{
 "cells": [
  {
   "cell_type": "markdown",
   "source": [
    "## Evaluation of fine-tuned model of ESM-2(esm2-t33-650M-UR50D) on the IMMUNECODE dataset"
   ],
   "metadata": {
    "collapsed": false
   },
   "id": "82a5ef5b306d8c00"
  },
  {
   "cell_type": "markdown",
   "source": [
    "### Load the fine-tuned PEFT model"
   ],
   "metadata": {
    "collapsed": false
   },
   "id": "9a3b76bb34e300fe"
  },
  {
   "cell_type": "code",
   "execution_count": 9,
   "outputs": [],
   "source": [
    "from transformers import AutoTokenizer, AutoModelForMaskedLM\n",
    "import torch\n",
    "from peft import *\n",
    "\n",
    "model_name = 'facebook/esm2_t33_650M_UR50D'\n",
    "adapter_path = '../output/exp1/mlm_finetune'\n",
    "base_model = AutoModelForMaskedLM.from_pretrained(model_name, device_map='auto')\n",
    "# model = PeftModel.from_pretrained(model, adapter_path, device_map='auto')\n",
    "model = AutoPeftModel.from_pretrained(adapter_path, device_map='auto')\n",
    "# model = model.merge_and_unload()\n",
    "tokenizer = AutoTokenizer.from_pretrained(adapter_path)"
   ],
   "metadata": {
    "collapsed": false,
    "ExecuteTime": {
     "end_time": "2023-11-13T09:02:20.065472286Z",
     "start_time": "2023-11-13T09:02:16.853072775Z"
    }
   },
   "id": "initial_id"
  },
  {
   "cell_type": "markdown",
   "source": [
    "### Load the IMMUNECODE dataset to evaluate the model"
   ],
   "metadata": {
    "collapsed": false
   },
   "id": "6a3bf84c98bfba41"
  },
  {
   "cell_type": "code",
   "execution_count": 12,
   "outputs": [
    {
     "name": "stdout",
     "output_type": "stream",
     "text": [
      ">>> Mean similarity score of base model: 0.9613205128205129\n",
      ">>> Mean similarity score of fine-tuned model: 0.6087185631227172\n"
     ]
    }
   ],
   "source": [
    "from tcredit.common import StrUtils\n",
    "from tcredit.data import EpitopeTargetDataset, EpitopeTargetMaskedLMCollator, CN\n",
    "import numpy as np\n",
    "\n",
    "\n",
    "\n",
    "def eval_model(target_model=None, tokenizer=None, input_seqs=None, max_len=None):    \n",
    "    inputs = tokenizer(input_seqs, \n",
    "                       padding='max_length', \n",
    "                       truncation=False, \n",
    "                       max_length=max_len,\n",
    "                       return_overflowing_tokens=False,\n",
    "                       return_tensors='pt')\n",
    "    output = target_model(**inputs)\n",
    "    token_ids = torch.argmax(output.logits, dim=-1)\n",
    "    output_seqs = tokenizer.batch_decode(token_ids, skip_special_tokens=True)\n",
    "    output_seqs = list(map(lambda seq: StrUtils.rm_nonwords(seq), output_seqs))\n",
    "    \n",
    "    scores = []\n",
    "    for input_seq, output_seq in zip(input_seqs, output_seqs):\n",
    "        score = StrUtils.similarity(input_seq, output_seq)\n",
    "        scores.append(score)\n",
    "        # print(f'input : {input_seq}\\noutput: {output_seq}')\n",
    "        # print('>>> similarity score: ', score)\n",
    "    return np.mean(scores)\n",
    "    \n",
    "EpitopeTargetDataset.FN_DATA_CONFIG = '../config/data-test.json'\n",
    "ds = EpitopeTargetDataset.from_key('immunecode')\n",
    "\n",
    "epitope_seqs = ds.df[CN.epitope_seq].values[0:20]\n",
    "target_seqs = ds.df[CN.cdr3b_seq].values[0:20]\n",
    "input_seqs = [f'{e_seq}{t_seq}' for e_seq, t_seq in zip(epitope_seqs, target_seqs)]\n",
    "max_len = ds.max_epitope_len + ds.max_target_len + 2\n",
    "score = eval_model(target_model=base_model, tokenizer=tokenizer, input_seqs=input_seqs, max_len=max_len)\n",
    "print(f'>>> Mean similarity score of base model: {score}')\n",
    "score = eval_model(target_model=model, tokenizer=tokenizer, input_seqs=input_seqs, max_len=max_len)\n",
    "print(f'>>> Mean similarity score of fine-tuned model: {score}')\n"
   ],
   "metadata": {
    "collapsed": false,
    "ExecuteTime": {
     "end_time": "2023-11-13T10:05:45.353577806Z",
     "start_time": "2023-11-13T10:05:45.156956498Z"
    }
   },
   "id": "cf0d01d274a8c5d"
  },
  {
   "cell_type": "markdown",
   "source": [],
   "metadata": {
    "collapsed": false
   },
   "id": "f790d03d396ab29d"
  },
  {
   "cell_type": "markdown",
   "source": [
    "### Results and Discussion"
   ],
   "metadata": {
    "collapsed": false
   },
   "id": "607af8de47a6d5be"
  },
  {
   "cell_type": "markdown",
   "source": [
    "- The mean similarity scores of the base model and the fine-tuned model is 0.96 and 0.61.\n",
    "- The fine-tuned model is not as good as the base model. This is probably because the mutaion ratio of the TCR CDR3$\\\\beta$ is too high as 0.4 and no mutation is applied to the epitope sequence."
   ],
   "metadata": {
    "collapsed": false
   },
   "id": "90a71fdd3965fa11"
  }
 ],
 "metadata": {
  "kernelspec": {
   "display_name": "Python 3",
   "language": "python",
   "name": "python3"
  },
  "language_info": {
   "codemirror_mode": {
    "name": "ipython",
    "version": 2
   },
   "file_extension": ".py",
   "mimetype": "text/x-python",
   "name": "python",
   "nbconvert_exporter": "python",
   "pygments_lexer": "ipython2",
   "version": "2.7.6"
  }
 },
 "nbformat": 4,
 "nbformat_minor": 5
}
